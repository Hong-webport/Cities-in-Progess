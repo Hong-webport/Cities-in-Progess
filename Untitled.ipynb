{
 "cells": [
  {
   "cell_type": "code",
   "execution_count": 1,
   "metadata": {},
   "outputs": [],
   "source": [
    "import os\n",
    "import pandas as pd \n",
    "from matplotlib import pyplot as plt\n",
    "import numpy as np\n",
    "import json\n",
    "import requests\n",
    "# Movie DB api key 8bc5a5245af0e94fde2d2ac84dffb856\n",
    "api_key='8bc5a5245af0e94fde2d2ac84dffb856'\n"
   ]
  },
  {
   "cell_type": "code",
   "execution_count": 2,
   "metadata": {},
   "outputs": [],
   "source": [
    "#get the location of the eightis\n",
    "company_id=2\n",
    "com_url=f\"https://api.themoviedb.org/3/company/{company_id}?api_key={api_key}\""
   ]
  },
  {
   "cell_type": "code",
   "execution_count": 3,
   "metadata": {},
   "outputs": [],
   "source": [
    "# TRY MY COMPANY ID\n",
    "test_co = []\n",
    "test_co_json = requests.get(com_url).json()\n",
    "test_co.append(test_co_json)  "
   ]
  },
  {
   "cell_type": "code",
   "execution_count": 4,
   "metadata": {},
   "outputs": [],
   "source": [
    "#company id loop\n",
    "test_loop_co=[]\n",
    "#a key difficulty is that we do not know how many companies there are\n",
    "#try with a loop from 1-100 in order tto s\n",
    "for company_id in range(0,100):\n",
    "    locom_url=f\"https://api.themoviedb.org/3/company/{company_id}?api_key={api_key}\"\n",
    "    test_loop_co_json = requests.get(locom_url).json()\n",
    "    test_loop_co.append(test_loop_co_json)  \n",
    "\n"
   ]
  },
  {
   "cell_type": "code",
   "execution_count": 23,
   "metadata": {},
   "outputs": [
    {
     "data": {
      "text/plain": [
       "100"
      ]
     },
     "execution_count": 23,
     "metadata": {},
     "output_type": "execute_result"
    }
   ],
   "source": [
    "len(test_loop_co)"
   ]
  },
  {
   "cell_type": "code",
   "execution_count": 91,
   "metadata": {},
   "outputs": [],
   "source": [
    "#look at the data and turn it into a list\n",
    "#turn it into a csv\n",
    "headquarters=[]\n",
    "company_name=[]\n",
    "company_country=[]\n",
    "company_parent=[]\n",
    "\n",
    "for i in range(1, 100):\n",
    "    try:\n",
    "        company_name.append(test_loop_co[i]['name'])\n",
    "        headquarters.append(test_loop_co[i]['headquarters'])\n",
    "        company_country.append(test_loop_co[i]['origin_country'])\n",
    "        company_parent.append(test_loop_co[i]['parent_company'])\n",
    "    \n",
    "    except:\n",
    "#         KeyError\n",
    "        company_name.append(\"---\")\n",
    "        headquarters.append(\"---\")\n",
    "        company_country.append(\"---\")\n",
    "        company_parent.append(\"---\")\n",
    "    \n",
    "#     company_name.append(test_loop_co[x]['name'])\n",
    "#     company_country.append(test_loop_co[x]['origin_country'])\n",
    "#     company_parent.append(test_loop_co[x]['parent_company'])\n",
    "\n",
    "\n",
    "comp_test_df= pd.DataFrame({\"company_name\": company_name,\"comp_countries\":company_country, \"headquarters\": headquarters})"
   ]
  },
  {
   "cell_type": "code",
   "execution_count": 92,
   "metadata": {},
   "outputs": [
    {
     "name": "stdout",
     "output_type": "stream",
     "text": [
      "<class 'pandas.core.frame.DataFrame'>\n",
      "RangeIndex: 99 entries, 0 to 98\n",
      "Data columns (total 3 columns):\n",
      " #   Column          Non-Null Count  Dtype \n",
      "---  ------          --------------  ----- \n",
      " 0   company_name    99 non-null     object\n",
      " 1   comp_countries  66 non-null     object\n",
      " 2   headquarters    99 non-null     object\n",
      "dtypes: object(3)\n",
      "memory usage: 2.4+ KB\n"
     ]
    }
   ],
   "source": [
    "# aggregae camp_test_df\n",
    "comp_test_df.info()\n",
    "#write this int o a csv to read it better:\n",
    "comp_test_df.to_csv(\"test_1.csv\")"
   ]
  },
  {
   "cell_type": "code",
   "execution_count": 99,
   "metadata": {},
   "outputs": [],
   "source": [
    "# drop the null value and remove the \"---\"\n",
    "comp_test_df=comp_test_df.dropna()\n",
    "# comp_test_df[\"headquarters\"].drop(\"---\")\n",
    "comp_test_df = comp_test_df[comp_test_df[\"headquarters\"].str.contains(\"---\")==False]"
   ]
  },
  {
   "cell_type": "code",
   "execution_count": 101,
   "metadata": {},
   "outputs": [
    {
     "name": "stdout",
     "output_type": "stream",
     "text": [
      "<class 'pandas.core.frame.DataFrame'>\n",
      "Int64Index: 59 entries, 0 to 96\n",
      "Data columns (total 3 columns):\n",
      " #   Column          Non-Null Count  Dtype \n",
      "---  ------          --------------  ----- \n",
      " 0   company_name    59 non-null     object\n",
      " 1   comp_countries  59 non-null     object\n",
      " 2   headquarters    59 non-null     object\n",
      "dtypes: object(3)\n",
      "memory usage: 1.8+ KB\n"
     ]
    }
   ],
   "source": [
    "comp_test_df.info()"
   ]
  },
  {
   "cell_type": "code",
   "execution_count": 102,
   "metadata": {},
   "outputs": [],
   "source": [
    "#get the company production and years selected_year = 1990\n"
   ]
  },
  {
   "cell_type": "code",
   "execution_count": null,
   "metadata": {},
   "outputs": [],
   "source": []
  }
 ],
 "metadata": {
  "kernelspec": {
   "display_name": "Python 3",
   "language": "python",
   "name": "python3"
  },
  "language_info": {
   "codemirror_mode": {
    "name": "ipython",
    "version": 3
   },
   "file_extension": ".py",
   "mimetype": "text/x-python",
   "name": "python",
   "nbconvert_exporter": "python",
   "pygments_lexer": "ipython3",
   "version": "3.7.6"
  }
 },
 "nbformat": 4,
 "nbformat_minor": 4
}
